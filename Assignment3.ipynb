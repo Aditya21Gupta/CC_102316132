{
  "nbformat": 4,
  "nbformat_minor": 0,
  "metadata": {
    "colab": {
      "provenance": []
    },
    "kernelspec": {
      "name": "python3",
      "display_name": "Python 3"
    },
    "language_info": {
      "name": "python"
    }
  },
  "cells": [
    {
      "cell_type": "markdown",
      "source": [
        "Q.1 Create a dataset as follow in the table.  "
      ],
      "metadata": {
        "id": "1eqcPkhbY-im"
      }
    },
    {
      "cell_type": "code",
      "source": [
        "import pandas as pd\n",
        "\n",
        "# Creating the dataset based on the given table\n",
        "data_q1 = {\n",
        "    \"Tid\": [1, 2, 3, 4, 5, 6, 7, 8, 9, 10],\n",
        "    \"Refund\": [\"Yes\", \"No\", \"No\", \"Yes\", \"No\", \"No\", \"Yes\", \"No\", \"No\", \"No\"],\n",
        "    \"Marital Status\": [\"Single\", \"Married\", \"Single\", \"Married\", \"Divorced\",\n",
        "                       \"Married\", \"Divorced\", \"Single\", \"Married\", \"Single\"],\n",
        "    \"Taxable Income\": [\"125K\", \"100K\", \"70K\", \"120K\", \"95K\",\n",
        "                       \"60K\", \"220K\", \"85K\", \"75K\", \"90K\"],\n",
        "    \"Cheat\": [\"No\", \"No\", \"No\", \"No\", \"Yes\",\n",
        "              \"Yes\", \"No\", \"Yes\", \"No\", \"Yes\"]\n",
        "}\n",
        "\n",
        "# Creating a DataFrame\n",
        "df_q1 = pd.DataFrame(data_q1)\n",
        "\n",
        "# Displaying the DataFrame\n",
        "print(df_q1)"
      ],
      "metadata": {
        "colab": {
          "base_uri": "https://localhost:8080/"
        },
        "id": "HmqsDWpeZB7d",
        "outputId": "ddcfb97c-2614-4f22-e995-2b7d517791a1"
      },
      "execution_count": null,
      "outputs": [
        {
          "output_type": "stream",
          "name": "stdout",
          "text": [
            "   Tid Refund Marital Status Taxable Income Cheat\n",
            "0    1    Yes         Single           125K    No\n",
            "1    2     No        Married           100K    No\n",
            "2    3     No         Single            70K    No\n",
            "3    4    Yes        Married           120K    No\n",
            "4    5     No       Divorced            95K   Yes\n",
            "5    6     No        Married            60K   Yes\n",
            "6    7    Yes       Divorced           220K    No\n",
            "7    8     No         Single            85K   Yes\n",
            "8    9     No        Married            75K    No\n",
            "9   10     No         Single            90K   Yes\n"
          ]
        }
      ]
    },
    {
      "cell_type": "markdown",
      "source": [
        "Q.2 From the above table that you have created, locate row 0, 4, 7 and 8 using DataFrame."
      ],
      "metadata": {
        "id": "A1j49tzEe4Kl"
      }
    },
    {
      "cell_type": "code",
      "source": [
        "print(df_q1.loc[[0, 4]])"
      ],
      "metadata": {
        "colab": {
          "base_uri": "https://localhost:8080/"
        },
        "id": "m1e7_m6Ae9cC",
        "outputId": "055529ac-be28-4099-b591-cb5230dc3c69"
      },
      "execution_count": null,
      "outputs": [
        {
          "output_type": "stream",
          "name": "stdout",
          "text": [
            "   Tid Refund Marital Status Taxable Income Cheat\n",
            "0    1    Yes         Single           125K    No\n",
            "4    5     No       Divorced            95K   Yes\n"
          ]
        }
      ]
    },
    {
      "cell_type": "markdown",
      "source": [
        "Q.3 Navigate the DataFrame and do the following task for the table created in question 1:\n",
        "1. Select row from index 3 to 7.\n",
        "2. Select row from index 4 to 8, and column 2 to 4.\n",
        "3. Select all rows with column index 1 to 3 (include index 3 during selection)."
      ],
      "metadata": {
        "id": "gHXssDApfJFD"
      }
    },
    {
      "cell_type": "code",
      "source": [
        "print(df_q1.iloc[3:])  # Since the dataset has only 5 rows"
      ],
      "metadata": {
        "colab": {
          "base_uri": "https://localhost:8080/"
        },
        "id": "_KpFQUOUfOiH",
        "outputId": "1362f24f-5a8a-4e57-8d8a-d18fde513449"
      },
      "execution_count": null,
      "outputs": [
        {
          "output_type": "stream",
          "name": "stdout",
          "text": [
            "   Tid Refund Marital Status Taxable Income Cheat\n",
            "3    4    Yes        Married           120K    No\n",
            "4    5     No       Divorced            95K   Yes\n",
            "5    6     No        Married            60K   Yes\n",
            "6    7    Yes       Divorced           220K    No\n",
            "7    8     No         Single            85K   Yes\n",
            "8    9     No        Married            75K    No\n",
            "9   10     No         Single            90K   Yes\n"
          ]
        }
      ]
    },
    {
      "cell_type": "code",
      "source": [
        "print(df_q1.iloc[4:, 2:5])  # Again, adjusting for available rows"
      ],
      "metadata": {
        "colab": {
          "base_uri": "https://localhost:8080/"
        },
        "id": "g0TsAgyDfVEZ",
        "outputId": "a4e98e70-24c1-43e2-d279-ad0f944befc5"
      },
      "execution_count": null,
      "outputs": [
        {
          "output_type": "stream",
          "name": "stdout",
          "text": [
            "  Marital Status Taxable Income Cheat\n",
            "4       Divorced            95K   Yes\n",
            "5        Married            60K   Yes\n",
            "6       Divorced           220K    No\n",
            "7         Single            85K   Yes\n",
            "8        Married            75K    No\n",
            "9         Single            90K   Yes\n"
          ]
        }
      ]
    },
    {
      "cell_type": "code",
      "source": [
        "print(df_q1.iloc[:, 1:4])"
      ],
      "metadata": {
        "colab": {
          "base_uri": "https://localhost:8080/"
        },
        "id": "bEnKHVmbfcA1",
        "outputId": "6e64a195-f42a-4f47-dba3-80306d4dd8c9"
      },
      "execution_count": null,
      "outputs": [
        {
          "output_type": "stream",
          "name": "stdout",
          "text": [
            "  Refund Marital Status Taxable Income\n",
            "0    Yes         Single           125K\n",
            "1     No        Married           100K\n",
            "2     No         Single            70K\n",
            "3    Yes        Married           120K\n",
            "4     No       Divorced            95K\n",
            "5     No        Married            60K\n",
            "6    Yes       Divorced           220K\n",
            "7     No         Single            85K\n",
            "8     No        Married            75K\n",
            "9     No         Single            90K\n"
          ]
        }
      ]
    },
    {
      "cell_type": "markdown",
      "source": [
        "Q.4 Read a csv file and display its first five rows.  \n",
        "Note-: Download dataset from https://www.kaggle.com/datasets/uciml/iris)  "
      ],
      "metadata": {
        "id": "FQeq3YO1fmlU"
      }
    },
    {
      "cell_type": "code",
      "source": [
        "! kaggle datasets download uciml/iris"
      ],
      "metadata": {
        "colab": {
          "base_uri": "https://localhost:8080/"
        },
        "id": "qes0zGFA4X8F",
        "outputId": "d4bd276c-014b-4c9a-b1df-244fbe7a44d6"
      },
      "execution_count": null,
      "outputs": [
        {
          "output_type": "stream",
          "name": "stdout",
          "text": [
            "Dataset URL: https://www.kaggle.com/datasets/uciml/iris\n",
            "License(s): CC0-1.0\n",
            "Downloading iris.zip to /content\n",
            "  0% 0.00/3.60k [00:00<?, ?B/s]\n",
            "100% 3.60k/3.60k [00:00<00:00, 7.60MB/s]\n"
          ]
        }
      ]
    },
    {
      "cell_type": "code",
      "source": [
        "! unzip iris.zip"
      ],
      "metadata": {
        "colab": {
          "base_uri": "https://localhost:8080/"
        },
        "id": "i5EK1gG86CeF",
        "outputId": "4274b789-e408-4740-f96d-66da91854428"
      },
      "execution_count": null,
      "outputs": [
        {
          "output_type": "stream",
          "name": "stdout",
          "text": [
            "Archive:  iris.zip\n",
            "  inflating: Iris.csv                \n",
            "  inflating: database.sqlite         \n"
          ]
        }
      ]
    },
    {
      "cell_type": "code",
      "source": [
        "import pandas as pd\n",
        "df = pd.read_csv('Iris.csv')\n",
        "print(df.head())"
      ],
      "metadata": {
        "colab": {
          "base_uri": "https://localhost:8080/"
        },
        "id": "dUM8yqzJ6Hai",
        "outputId": "5fcfa621-f7bf-4c3f-b46e-6f70ecc4d909"
      },
      "execution_count": null,
      "outputs": [
        {
          "output_type": "stream",
          "name": "stdout",
          "text": [
            "   Id  SepalLengthCm  SepalWidthCm  PetalLengthCm  PetalWidthCm      Species\n",
            "0   1            5.1           3.5            1.4           0.2  Iris-setosa\n",
            "1   2            4.9           3.0            1.4           0.2  Iris-setosa\n",
            "2   3            4.7           3.2            1.3           0.2  Iris-setosa\n",
            "3   4            4.6           3.1            1.5           0.2  Iris-setosa\n",
            "4   5            5.0           3.6            1.4           0.2  Iris-setosa\n"
          ]
        }
      ]
    },
    {
      "cell_type": "markdown",
      "source": [
        "Q.5 From the csv file (uploaded in the Q.4) delete row 4, and delete column 3. Display the result."
      ],
      "metadata": {
        "id": "WZdKoexaggat"
      }
    },
    {
      "cell_type": "code",
      "source": [
        "import pandas as pd\n",
        "\n",
        "# Load the dataset (replace with the correct path to your file)\n",
        "df = pd.read_csv('Iris.csv')  # Replace with your file path\n",
        "\n",
        "# Select only the first 5 rows\n",
        "df = df.head(5)\n",
        "\n",
        "# Delete row 4 (index 3) from the first 5 rows using drop() with axis=0\n",
        "df = df.drop(index=3)\n",
        "\n",
        "# Delete column 3 (index 2) using drop() with axis=1\n",
        "df = df.drop(df.columns[2], axis=1)\n",
        "\n",
        "# Display the modified DataFrame\n",
        "print(df)\n"
      ],
      "metadata": {
        "id": "cqb4xrE3gpam",
        "colab": {
          "base_uri": "https://localhost:8080/"
        },
        "outputId": "0e30c5a3-7735-4ae3-86f9-5d5981b2688e"
      },
      "execution_count": null,
      "outputs": [
        {
          "output_type": "stream",
          "name": "stdout",
          "text": [
            "   Id  SepalLengthCm  PetalLengthCm  PetalWidthCm      Species\n",
            "0   1            5.1            1.4           0.2  Iris-setosa\n",
            "1   2            4.9            1.4           0.2  Iris-setosa\n",
            "2   3            4.7            1.3           0.2  Iris-setosa\n",
            "4   5            5.0            1.4           0.2  Iris-setosa\n"
          ]
        }
      ]
    },
    {
      "cell_type": "markdown",
      "source": [
        "Q.6 Create a sample dataset (employees.csv) containing information about employees in\n",
        "a company.\n",
        "WAP to determine the following using dataset in Q6:\n",
        "5000 3.5\n",
        "a) Shape (number of rows and columns) of the DataFrame.\n",
        "b) Summary of the DataFrame that includes the data types and non-null counts for\n",
        "each column.\n",
        "c) Generate descriptive statistics.\n",
        "d) Display the first 5 rows and last 3 rows of the dataset.  \n",
        "e) Calculate the following statistics from the dataset:\n",
        "i. The average salary of employees.\n",
        "ii. The total bonus paid to all employees.\n",
        "iii. The youngest employee's age.\n",
        "iv. The highest performance rating.\n",
        "f) Sort the DataFrame by the Salary column in descending order.\n",
        "g) Add a new column that categorizes employees based on their performance rating:\n",
        "i. Excellent for ratings >= 4.5\n",
        "ii. Good for ratings >= 4.0 but < 4.5\n",
        "iii. Average for ratings < 4.0  \n",
        "h) Identify missing values in the DataFrame.\n",
        "i) Rename the Employee_ID column to ID.\n",
        "j) Find all employees who:\n",
        "i. Have more than 5 years of experience.\n",
        "ii. Belong to the IT department.\n",
        "k) Modify the dataset by adding a new column, Tax, which deducts 10% of the\n",
        "Salary.  \n",
        "l) Save the modified DataFrame (with added columns) to a new CSV file."
      ],
      "metadata": {
        "id": "HfZJGr6NgqD0"
      }
    },
    {
      "cell_type": "code",
      "source": [
        "import pandas as pd\n",
        "\n",
        "# Creating the Employee Dataset\n",
        "data_q6 = {\n",
        "    \"Employee_ID\": [101, 102, 103, 104, 105],\n",
        "    \"Name\": [\"Alice\", \"Bob\", \"Charlie\", \"Diana\", \"Edward\"],\n",
        "    \"Department\": [\"HR\", \"IT\", \"IT\", \"Marketing\", \"Sales\"],\n",
        "    \"Age\": [29, 34, 41, 28, 38],\n",
        "    \"Salary\": [50000, 70000, 65000, 55000, 60000],\n",
        "    \"Years_of_Experience\": [4, 8, 10, 3, 12],\n",
        "    \"Joining_Date\": [\"2020-03-15\", \"2017-07-19\", \"2013-06-01\", \"2021-02-10\", \"2010-11-25\"],\n",
        "    \"Gender\": [\"Female\", \"Male\", \"Male\", \"Female\", \"Male\"],\n",
        "    \"Bonus\": [5000, 7000, 6000, 4500, 5000],\n",
        "    \"Rating\": [4.5, 4.0, 3.8, 4.7, 3.5]\n",
        "}\n",
        "\n",
        "# Creating DataFrame\n",
        "df_q6 = pd.DataFrame(data_q6)\n",
        "\n",
        "# Display basic details\n",
        "print(\"Dataset Shape:\", df_q6.shape)\n",
        "print(\"\\nDataset Info:\")\n",
        "print(df_q6.info())\n",
        "print(\"\\nDescriptive Statistics:\")\n",
        "print(df_q6.describe())\n",
        "\n",
        "# Sorting by Salary\n",
        "df_sorted = df_q6.sort_values(by=\"Salary\", ascending=False)\n",
        "\n",
        "# Categorizing Employees by Rating\n",
        "df_q6[\"Performance\"] = df_q6[\"Rating\"].apply(lambda r: \"Excellent\" if r >= 4.5 else \"Good\" if r >= 4.0 else \"Average\")\n",
        "\n",
        "# Checking Missing Values\n",
        "print(\"\\nMissing Values:\\n\", df_q6.isnull().sum())\n",
        "\n",
        "# Renaming Column\n",
        "df_q6.rename(columns={\"Employee_ID\": \"ID\"}, inplace=True)\n",
        "\n",
        "# Filtering Employees (More than 5 Years Experience and IT Department)\n",
        "experienced_employees = df_q6[df_q6[\"Years_of_Experience\"] > 5]\n",
        "it_employees = df_q6[df_q6[\"Department\"] == \"IT\"]\n",
        "\n",
        "# Adding a New Column \"Tax\" (10% of Salary)\n",
        "df_q6[\"Tax\"] = df_q6[\"Salary\"] * 0.10\n",
        "\n",
        "# Saving Modified Dataset\n",
        "df_q6.to_csv(\"modified_employees.csv\", index=False)\n",
        "\n",
        "# Displaying Final DataFrame\n",
        "print(\"\\nFinal Modified DataFrame:\\n\", df_q6)"
      ],
      "metadata": {
        "colab": {
          "base_uri": "https://localhost:8080/"
        },
        "id": "pBHbJE8QgyEs",
        "outputId": "4739acf7-f878-407d-fb8b-5b7049d988f2"
      },
      "execution_count": null,
      "outputs": [
        {
          "output_type": "stream",
          "name": "stdout",
          "text": [
            "Dataset Shape: (5, 10)\n",
            "\n",
            "Dataset Info:\n",
            "<class 'pandas.core.frame.DataFrame'>\n",
            "RangeIndex: 5 entries, 0 to 4\n",
            "Data columns (total 10 columns):\n",
            " #   Column               Non-Null Count  Dtype  \n",
            "---  ------               --------------  -----  \n",
            " 0   Employee_ID          5 non-null      int64  \n",
            " 1   Name                 5 non-null      object \n",
            " 2   Department           5 non-null      object \n",
            " 3   Age                  5 non-null      int64  \n",
            " 4   Salary               5 non-null      int64  \n",
            " 5   Years_of_Experience  5 non-null      int64  \n",
            " 6   Joining_Date         5 non-null      object \n",
            " 7   Gender               5 non-null      object \n",
            " 8   Bonus                5 non-null      int64  \n",
            " 9   Rating               5 non-null      float64\n",
            "dtypes: float64(1), int64(5), object(4)\n",
            "memory usage: 532.0+ bytes\n",
            "None\n",
            "\n",
            "Descriptive Statistics:\n",
            "       Employee_ID        Age       Salary  Years_of_Experience   Bonus  \\\n",
            "count     5.000000   5.000000      5.00000             5.000000     5.0   \n",
            "mean    103.000000  34.000000  60000.00000             7.400000  5500.0   \n",
            "std       1.581139   5.612486   7905.69415             3.847077  1000.0   \n",
            "min     101.000000  28.000000  50000.00000             3.000000  4500.0   \n",
            "25%     102.000000  29.000000  55000.00000             4.000000  5000.0   \n",
            "50%     103.000000  34.000000  60000.00000             8.000000  5000.0   \n",
            "75%     104.000000  38.000000  65000.00000            10.000000  6000.0   \n",
            "max     105.000000  41.000000  70000.00000            12.000000  7000.0   \n",
            "\n",
            "         Rating  \n",
            "count  5.000000  \n",
            "mean   4.100000  \n",
            "std    0.494975  \n",
            "min    3.500000  \n",
            "25%    3.800000  \n",
            "50%    4.000000  \n",
            "75%    4.500000  \n",
            "max    4.700000  \n",
            "\n",
            "Missing Values:\n",
            " Employee_ID            0\n",
            "Name                   0\n",
            "Department             0\n",
            "Age                    0\n",
            "Salary                 0\n",
            "Years_of_Experience    0\n",
            "Joining_Date           0\n",
            "Gender                 0\n",
            "Bonus                  0\n",
            "Rating                 0\n",
            "Performance            0\n",
            "dtype: int64\n",
            "\n",
            "Final Modified DataFrame:\n",
            "     ID     Name Department  Age  Salary  Years_of_Experience Joining_Date  \\\n",
            "0  101    Alice         HR   29   50000                    4   2020-03-15   \n",
            "1  102      Bob         IT   34   70000                    8   2017-07-19   \n",
            "2  103  Charlie         IT   41   65000                   10   2013-06-01   \n",
            "3  104    Diana  Marketing   28   55000                    3   2021-02-10   \n",
            "4  105   Edward      Sales   38   60000                   12   2010-11-25   \n",
            "\n",
            "   Gender  Bonus  Rating Performance     Tax  \n",
            "0  Female   5000     4.5   Excellent  5000.0  \n",
            "1    Male   7000     4.0        Good  7000.0  \n",
            "2    Male   6000     3.8     Average  6500.0  \n",
            "3  Female   4500     4.7   Excellent  5500.0  \n",
            "4    Male   5000     3.5     Average  6000.0  \n"
          ]
        }
      ]
    }
  ]
}
